{
  "nbformat": 4,
  "nbformat_minor": 0,
  "metadata": {
    "colab": {
      "provenance": [],
      "include_colab_link": true
    },
    "kernelspec": {
      "name": "python3",
      "display_name": "Python 3"
    },
    "language_info": {
      "name": "python"
    }
  },
  "cells": [
    {
      "cell_type": "markdown",
      "metadata": {
        "id": "view-in-github",
        "colab_type": "text"
      },
      "source": [
        "<a href=\"https://colab.research.google.com/github/SebastianMark32/Kaggle_Sleep_Data/blob/main/Sleep_Data_Graphs.ipynb\" target=\"_parent\"><img src=\"https://colab.research.google.com/assets/colab-badge.svg\" alt=\"Open In Colab\"/></a>"
      ]
    },
    {
      "cell_type": "markdown",
      "source": [
        "## Kaggle Data\n",
        "\n",
        "Dataset Overview:\n",
        "The Sleep Health and Lifestyle Dataset comprises 400 rows and 13 columns, covering a wide range of variables related to sleep and daily habits. It includes details such as gender, age, occupation, sleep duration, quality of sleep, physical activity level, stress levels, BMI category, blood pressure, heart rate, daily steps, and the presence or absence of sleep disorders.\n",
        "\n",
        "Key Features of the Dataset:\n",
        "Comprehensive Sleep Metrics: Explore sleep duration, quality, and factors influencing sleep patterns.\n",
        "Lifestyle Factors: Analyze physical activity levels, stress levels, and BMI categories.\n",
        "Cardiovascular Health: Examine blood pressure and heart rate measurements.\n",
        "Sleep Disorder Analysis: Identify the occurrence of sleep disorders such as Insomnia and Sleep Apnea."
      ],
      "metadata": {
        "id": "BpdhiCUixU8m"
      }
    },
    {
      "cell_type": "markdown",
      "source": [
        "## This file is to visual and ask questions about sleep and the data that is being graphed."
      ],
      "metadata": {
        "id": "ibGuT6-qAfr6"
      }
    },
    {
      "cell_type": "markdown",
      "source": [
        "# Package import"
      ],
      "metadata": {
        "id": "JKd8CqLmsh5k"
      }
    },
    {
      "cell_type": "markdown",
      "source": [],
      "metadata": {
        "id": "5yDCMhDQAgV-"
      }
    },
    {
      "cell_type": "code",
      "source": [
        "#%matplotlib inline\n",
        "import matplotlib.pyplot as plt\n",
        "import matplotlib.pyplot as pyplot\n",
        "import seaborn as sns\n",
        "import numpy as np\n",
        "import pandas as pd\n",
        "import os"
      ],
      "metadata": {
        "id": "MqbsapLGsmAQ"
      },
      "execution_count": null,
      "outputs": []
    },
    {
      "cell_type": "code",
      "source": [
        "from google.colab import drive\n",
        "\n",
        "# Mounting the file on Google drive\n",
        "drive.mount('/content/drive', force_remount=True)"
      ],
      "metadata": {
        "colab": {
          "base_uri": "https://localhost:8080/"
        },
        "id": "8nMBQbYwp1e_",
        "outputId": "137f8ddf-c220-4e17-e8e8-12f0de8f417d"
      },
      "execution_count": null,
      "outputs": [
        {
          "output_type": "stream",
          "name": "stdout",
          "text": [
            "Mounted at /content/drive\n"
          ]
        }
      ]
    },
    {
      "cell_type": "code",
      "source": [
        "from google.colab import drive\n",
        "drive.mount('/content/drive')"
      ],
      "metadata": {
        "id": "cz3guIYBxG47",
        "colab": {
          "base_uri": "https://localhost:8080/"
        },
        "outputId": "397435dc-1f84-4c0d-cea5-44798ed01aa8"
      },
      "execution_count": null,
      "outputs": [
        {
          "output_type": "stream",
          "name": "stdout",
          "text": [
            "Drive already mounted at /content/drive; to attempt to forcibly remount, call drive.mount(\"/content/drive\", force_remount=True).\n"
          ]
        }
      ]
    },
    {
      "cell_type": "code",
      "source": [
        "   import pandas as pd\n",
        "   #davids_path='/content/drive/MyDrive/2023-24/Theses/Sebastian - Sleep/Data/Sleep_health_and_lifestyle_dataset.csv'\n",
        "   sebastians_path='/content/drive/MyDrive/Sebastian - Sleep/Data/Sleep_health_and_lifestyle_dataset.csv'\n",
        "   #print(os.listdir('/content/drive/'))\n",
        "\n",
        "   #sleep_data = pd.read_csv(davids_path)\n",
        "   sleep_data = pd.read_csv(sebastians_path)\n",
        "\n",
        "   # Head() will display the first 5 rows of the data frame\n",
        "   ##df.head()\n",
        "   print(\"-------------Entire Data Set--------------------\")\n",
        "   print(sleep_data)"
      ],
      "metadata": {
        "colab": {
          "base_uri": "https://localhost:8080/"
        },
        "id": "mA5ousWjqEOW",
        "outputId": "3cc1fbec-301d-4f94-c61e-f39b79c49154"
      },
      "execution_count": null,
      "outputs": [
        {
          "output_type": "stream",
          "name": "stdout",
          "text": [
            "-------------Entire Data Set--------------------\n",
            "     Person ID  Gender  Age            Occupation  Sleep Duration  \\\n",
            "0            1    Male   27     Software Engineer             6.1   \n",
            "1            2    Male   28                Doctor             6.2   \n",
            "2            3    Male   28                Doctor             6.2   \n",
            "3            4    Male   28  Sales Representative             5.9   \n",
            "4            5    Male   28  Sales Representative             5.9   \n",
            "..         ...     ...  ...                   ...             ...   \n",
            "369        370  Female   59                 Nurse             8.1   \n",
            "370        371  Female   59                 Nurse             8.0   \n",
            "371        372  Female   59                 Nurse             8.1   \n",
            "372        373  Female   59                 Nurse             8.1   \n",
            "373        374  Female   59                 Nurse             8.1   \n",
            "\n",
            "     Quality of Sleep  Physical Activity Level  Stress Level BMI Category  \\\n",
            "0                   6                       42             6   Overweight   \n",
            "1                   6                       60             8       Normal   \n",
            "2                   6                       60             8       Normal   \n",
            "3                   4                       30             8        Obese   \n",
            "4                   4                       30             8        Obese   \n",
            "..                ...                      ...           ...          ...   \n",
            "369                 9                       75             3   Overweight   \n",
            "370                 9                       75             3   Overweight   \n",
            "371                 9                       75             3   Overweight   \n",
            "372                 9                       75             3   Overweight   \n",
            "373                 9                       75             3   Overweight   \n",
            "\n",
            "    Blood Pressure  Heart Rate  Daily Steps Sleep Disorder  \n",
            "0           126/83          77         4200           None  \n",
            "1           125/80          75        10000           None  \n",
            "2           125/80          75        10000           None  \n",
            "3           140/90          85         3000    Sleep Apnea  \n",
            "4           140/90          85         3000    Sleep Apnea  \n",
            "..             ...         ...          ...            ...  \n",
            "369         140/95          68         7000    Sleep Apnea  \n",
            "370         140/95          68         7000    Sleep Apnea  \n",
            "371         140/95          68         7000    Sleep Apnea  \n",
            "372         140/95          68         7000    Sleep Apnea  \n",
            "373         140/95          68         7000    Sleep Apnea  \n",
            "\n",
            "[374 rows x 13 columns]\n"
          ]
        }
      ]
    },
    {
      "cell_type": "markdown",
      "source": [
        "# New Section"
      ],
      "metadata": {
        "id": "7V32tlSszR4J"
      }
    },
    {
      "cell_type": "code",
      "source": [
        "sns.pairplot(sleep_data)"
      ],
      "metadata": {
        "colab": {
          "base_uri": "https://localhost:8080/",
          "height": 176
        },
        "id": "_vKftkSQtbAW",
        "outputId": "76565276-9e22-4add-e086-acfa12ed30f4"
      },
      "execution_count": null,
      "outputs": [
        {
          "output_type": "error",
          "ename": "NameError",
          "evalue": "name 'sns' is not defined",
          "traceback": [
            "\u001b[0;31m---------------------------------------------------------------------------\u001b[0m",
            "\u001b[0;31mNameError\u001b[0m                                 Traceback (most recent call last)",
            "\u001b[0;32m<ipython-input-2-7e011fd1fa49>\u001b[0m in \u001b[0;36m<cell line: 1>\u001b[0;34m()\u001b[0m\n\u001b[0;32m----> 1\u001b[0;31m \u001b[0msns\u001b[0m\u001b[0;34m.\u001b[0m\u001b[0mpairplot\u001b[0m\u001b[0;34m(\u001b[0m\u001b[0msleep_data\u001b[0m\u001b[0;34m)\u001b[0m\u001b[0;34m\u001b[0m\u001b[0;34m\u001b[0m\u001b[0m\n\u001b[0m",
            "\u001b[0;31mNameError\u001b[0m: name 'sns' is not defined"
          ]
        }
      ]
    },
    {
      "cell_type": "markdown",
      "source": [
        "# We want to parse the data to ask a few questions.\n",
        "## Lets check some columns against eachother.\n",
        "1. How does gender and age influence sleep?\n",
        "2. How does occupation effect sleep?\n",
        "3. Does weight (BMI) and physical exercise enhance or reduce sleep?\n",
        "4. Can body temperature cause better or worse sleep?\n",
        "5. Should we check a heat map for people who sleep during the night?"
      ],
      "metadata": {
        "id": "4unTUDEM0MIR"
      }
    },
    {
      "cell_type": "markdown",
      "source": [
        "## Lets select some columns i.e. Gender and Age.\n"
      ],
      "metadata": {
        "id": "Jwd9cA5k25Q7"
      }
    },
    {
      "cell_type": "code",
      "source": [
        "# print(\"----------Before------------------------------\")\n",
        "sleep_data_parse = np.array(sleep_data.iloc[:, [1,2]])\n",
        "# print(sleep_data_parse[0:30])\n",
        "# gender_column = np.array(sleep_data.iloc[:30,[1]])\n",
        "# print(\"Gender:\\n\", gender_column)\n",
        "\n",
        "\n",
        "print(\"--------------------Convert-------------------------------------\")\n",
        "female_indices = sleep_data_parse[:,0] == 'Female'\n",
        "sleep_data_parse[:,0][female_indices]= 1\n",
        "sleep_data_parse[:,0][~female_indices]= 0\n",
        "print(sleep_data_parse[:30])\n",
        "\n"
      ],
      "metadata": {
        "colab": {
          "base_uri": "https://localhost:8080/"
        },
        "id": "cPiswKSa1gf8",
        "outputId": "1dcfde98-6c69-48f5-fe4d-1cd7ff08e76a"
      },
      "execution_count": null,
      "outputs": [
        {
          "output_type": "stream",
          "name": "stdout",
          "text": [
            "--------------------Convert-------------------------------------\n",
            "[[0 27]\n",
            " [0 28]\n",
            " [0 28]\n",
            " [0 28]\n",
            " [0 28]\n",
            " [0 28]\n",
            " [0 29]\n",
            " [0 29]\n",
            " [0 29]\n",
            " [0 29]\n",
            " [0 29]\n",
            " [0 29]\n",
            " [0 29]\n",
            " [0 29]\n",
            " [0 29]\n",
            " [0 29]\n",
            " [1 29]\n",
            " [0 29]\n",
            " [1 29]\n",
            " [0 30]\n",
            " [0 30]\n",
            " [0 30]\n",
            " [0 30]\n",
            " [0 30]\n",
            " [0 30]\n",
            " [0 30]\n",
            " [0 30]\n",
            " [0 30]\n",
            " [0 30]\n",
            " [0 30]]\n"
          ]
        }
      ]
    },
    {
      "cell_type": "markdown",
      "source": [
        "## Scatter plot for gender and age\n"
      ],
      "metadata": {
        "id": "4MGQ0m053MvG"
      }
    },
    {
      "cell_type": "markdown",
      "source": [
        "We want to use an ecoder here. Male = 0 and female = 1 and plot for each point."
      ],
      "metadata": {
        "id": "TcIKQ_i5yQuG"
      }
    },
    {
      "cell_type": "code",
      "source": [
        "plt.figure(figsize=(4, 4))\n",
        "plt.xlabel(\"Age\")\n",
        "plt.ylabel(\"Gender\")\n",
        "plt.title(\"Scatter Plot of Age and Gender\")\n",
        "\n",
        "# We are using column 1 = gender and column 2 = age\n",
        "# Extract the age data (column 2)\n",
        "gender_data = sleep_data_parse[:, 0]\n",
        "age_data = sleep_data_parse[:, 1]\n",
        "\n",
        "# Create a scatter plot\n",
        "plt.scatter(age_data, gender_data)\n",
        "plt.show()"
      ],
      "metadata": {
        "colab": {
          "base_uri": "https://localhost:8080/",
          "height": 410
        },
        "id": "v--hFcmW3Rlk",
        "outputId": "d40d6c5c-02fb-424b-cc15-6bc0d461e96a"
      },
      "execution_count": null,
      "outputs": [
        {
          "output_type": "display_data",
          "data": {
            "text/plain": [
              "<Figure size 400x400 with 1 Axes>"
            ],
            "image/png": "[encoded data removed]"
          },
          "metadata": {}
        }
      ]
    },
    {
      "cell_type": "markdown",
      "source": [],
      "metadata": {
        "id": "LoePUVzb1y30"
      }
    },
    {
      "cell_type": "markdown",
      "source": [
        "## This cell is going to graph occupation and sleep duration\n",
        "1. How is an occupation contributing to sleep duration.\n",
        "2. Do some occupation show more or less sleep on average?\n",
        "3. Does the high demand of a certain profession induce stress which could correlate in less sleep?\n",
        "4. Can we find an association between occupation and sleep apnea?\n",
        "\n"
      ],
      "metadata": {
        "id": "JlMo0rAm85ga"
      }
    },
    {
      "cell_type": "code",
      "source": [
        "sleep_data_parse = np.array(sleep_data.iloc[:, [3,4]])\n",
        "print(sleep_data_parse[0:30])"
      ],
      "metadata": {
        "colab": {
          "base_uri": "https://localhost:8080/"
        },
        "id": "wQN7tbSv9C-c",
        "outputId": "b74b834f-889e-42cd-fafa-63e43a9975dd"
      },
      "execution_count": null,
      "outputs": [
        {
          "output_type": "stream",
          "name": "stdout",
          "text": [
            "[['Software Engineer' 6.1]\n",
            " ['Doctor' 6.2]\n",
            " ['Doctor' 6.2]\n",
            " ['Sales Representative' 5.9]\n",
            " ['Sales Representative' 5.9]\n",
            " ['Software Engineer' 5.9]\n",
            " ['Teacher' 6.3]\n",
            " ['Doctor' 7.8]\n",
            " ['Doctor' 7.8]\n",
            " ['Doctor' 7.8]\n",
            " ['Doctor' 6.1]\n",
            " ['Doctor' 7.8]\n",
            " ['Doctor' 6.1]\n",
            " ['Doctor' 6.0]\n",
            " ['Doctor' 6.0]\n",
            " ['Doctor' 6.0]\n",
            " ['Nurse' 6.5]\n",
            " ['Doctor' 6.0]\n",
            " ['Nurse' 6.5]\n",
            " ['Doctor' 7.6]\n",
            " ['Doctor' 7.7]\n",
            " ['Doctor' 7.7]\n",
            " ['Doctor' 7.7]\n",
            " ['Doctor' 7.7]\n",
            " ['Doctor' 7.8]\n",
            " ['Doctor' 7.9]\n",
            " ['Doctor' 7.8]\n",
            " ['Doctor' 7.9]\n",
            " ['Doctor' 7.9]\n",
            " ['Doctor' 7.9]]\n"
          ]
        }
      ]
    },
    {
      "cell_type": "code",
      "source": [
        "# plt.figure(figsize=(4, 4))\n",
        "# plt.xlabel(\"\")\n",
        "# plt.ylabel(\"\")\n",
        "# plt.title(\"Occupation and Sleep Duration\")\n",
        "\n",
        "# # Extract the age data (column 1)\n",
        "# occupation = sleep_data_parse[:, 0]\n",
        "# sleep_duration = sleep_data_parse[:, 1]\n",
        "# print(\"Age data display:\",occupation)\n",
        "# print(\"Gender data display:\", sleep_duration)\n",
        "\n",
        "# # Create a line plot\n",
        "# plt.plot(range(30), age_data[:30])\n",
        "# plt.scatter(age_data, gender_data)\n",
        "# plt.show()\n",
        "\n",
        "\n"
      ],
      "metadata": {
        "id": "8pL5ZNKL-J0X"
      },
      "execution_count": null,
      "outputs": []
    },
    {
      "cell_type": "code",
      "source": [],
      "metadata": {
        "id": "qmbF32i1EYwz"
      },
      "execution_count": null,
      "outputs": []
    },
    {
      "cell_type": "code",
      "source": [
        "# Sleep Duration, Quality of Sleep, Stress Level\n",
        "\n",
        "sleep_data_trimmed = sleep_data[['Sleep Duration','Quality of Sleep', 'Physical Activity Level','Stress Level',\t'Heart Rate']]\n",
        "#print(\"Trimmed data:\\n\", sleep_data_trimmed.head(30))\n",
        "\n",
        "sns.pairplot(sleep_data_trimmed)\n",
        "\n"
      ],
      "metadata": {
        "colab": {
          "base_uri": "https://localhost:8080/",
          "height": 246
        },
        "outputId": "57aa8cea-d333-4117-843b-1c3c0d56b2ae",
        "id": "WXfxUXE7_MzN"
      },
      "execution_count": null,
      "outputs": [
        {
          "output_type": "error",
          "ename": "NameError",
          "evalue": "name 'sleep_data' is not defined",
          "traceback": [
            "\u001b[0;31m---------------------------------------------------------------------------\u001b[0m",
            "\u001b[0;31mNameError\u001b[0m                                 Traceback (most recent call last)",
            "\u001b[0;32m<ipython-input-4-1c7d5958f67e>\u001b[0m in \u001b[0;36m<cell line: 3>\u001b[0;34m()\u001b[0m\n\u001b[1;32m      1\u001b[0m \u001b[0;31m# Sleep Duration, Quality of Sleep, Stress Level\u001b[0m\u001b[0;34m\u001b[0m\u001b[0;34m\u001b[0m\u001b[0m\n\u001b[1;32m      2\u001b[0m \u001b[0;34m\u001b[0m\u001b[0m\n\u001b[0;32m----> 3\u001b[0;31m \u001b[0msleep_data_trimmed\u001b[0m \u001b[0;34m=\u001b[0m \u001b[0msleep_data\u001b[0m\u001b[0;34m[\u001b[0m\u001b[0;34m[\u001b[0m\u001b[0;34m'Day Strain'\u001b[0m\u001b[0;34m,\u001b[0m\u001b[0;34m'Sleep performance %'\u001b[0m\u001b[0;34m]\u001b[0m\u001b[0;34m]\u001b[0m\u001b[0;34m\u001b[0m\u001b[0;34m\u001b[0m\u001b[0m\n\u001b[0m\u001b[1;32m      4\u001b[0m \u001b[0;31m#print(\"Trimmed data:\\n\", sleep_data_trimmed.head(30))\u001b[0m\u001b[0;34m\u001b[0m\u001b[0;34m\u001b[0m\u001b[0m\n\u001b[1;32m      5\u001b[0m \u001b[0;34m\u001b[0m\u001b[0m\n",
            "\u001b[0;31mNameError\u001b[0m: name 'sleep_data' is not defined"
          ]
        }
      ]
    },
    {
      "cell_type": "code",
      "source": [
        "# We want to look at the covariance of each feature\n",
        "cov = np.cov(sleep_data_trimmed, rowvar=False)\n",
        "print(cov)\n",
        "\n",
        "# We need to normalize\n",
        "\n",
        "mean = sleep_data_trimmed.mean()\n",
        "print(mean)\n",
        "\n",
        "sd = sleep_data_trimmed.std()\n",
        "print(sd)\n",
        "\n",
        "sleep_data_trimmed_norm = (sleep_data_trimmed - mean)/sd\n",
        "print(sleep_data_trimmed_norm.mean())\n",
        "print(sleep_data_trimmed_norm.std())\n",
        "\n",
        "cov_matrix = np.cov(sleep_data_trimmed_norm, rowvar=False)\n",
        "print(cov_matrix)"
      ],
      "metadata": {
        "colab": {
          "base_uri": "https://localhost:8080/"
        },
        "id": "hxw2XmOrjBtF",
        "outputId": "afb2ca8a-cb8d-4b67-9f89-efe724d1619e"
      },
      "execution_count": null,
      "outputs": [
        {
          "output_type": "stream",
          "name": "stdout",
          "text": [
            "[[  0.63306963   0.84114206   3.51969577  -1.14509469  -1.69943513]\n",
            " [  0.84114206   1.43270347   4.80959413  -1.90897622  -3.26647647]\n",
            " [  3.51969577   4.80959413 433.92238104  -1.26177402  11.79997419]\n",
            " [ -1.14509469  -1.90897622  -1.26177402   3.1489441    4.91723416]\n",
            " [ -1.69943513  -3.26647647  11.79997419   4.91723416  17.10381213]]\n",
            "Sleep Duration              7.132086\n",
            "Quality of Sleep            7.312834\n",
            "Physical Activity Level    59.171123\n",
            "Stress Level                5.385027\n",
            "Heart Rate                 70.165775\n",
            "dtype: float64\n",
            "Sleep Duration              0.795657\n",
            "Quality of Sleep            1.196956\n",
            "Physical Activity Level    20.830804\n",
            "Stress Level                1.774526\n",
            "Heart Rate                  4.135676\n",
            "dtype: float64\n",
            "Sleep Duration             1.405887e-15\n",
            "Quality of Sleep           2.279816e-16\n",
            "Physical Activity Level   -4.749617e-17\n",
            "Stress Level               2.279816e-16\n",
            "Heart Rate                -1.329893e-15\n",
            "dtype: float64\n",
            "Sleep Duration             1.0\n",
            "Quality of Sleep           1.0\n",
            "Physical Activity Level    1.0\n",
            "Stress Level               1.0\n",
            "Heart Rate                 1.0\n",
            "dtype: float64\n",
            "[[ 1.          0.883213    0.21236031 -0.81102303 -0.51645489]\n",
            " [ 0.883213    1.          0.19289645 -0.89875203 -0.65986473]\n",
            " [ 0.21236031  0.19289645  1.         -0.03413446  0.13697098]\n",
            " [-0.81102303 -0.89875203 -0.03413446  1.          0.67002646]\n",
            " [-0.51645489 -0.65986473  0.13697098  0.67002646  1.        ]]\n"
          ]
        }
      ]
    },
    {
      "cell_type": "markdown",
      "source": [
        "We can see that the matrix is consistent witht he graph. Since we have one's on the main diagonal. Also, notice how if we pick a a row and element a12 = 0.883213 that we can see covariance pretty close to 1. This indicated that there is a relationship between quality of sleep and sleep duration. Since 0.883213 > 0 (positive) then we can see that as quality of sleep increases then sleep duration also increases. This positive trends implies that as a person has better sleep then the duration of sleep increases as well.\n",
        "\n",
        "\n",
        "We can further try to understand how other features affect eachother. Lets pick another cell that does not have a positive values, such as a24. So, a24 is stress levels and qualitiy of sleep."
      ],
      "metadata": {
        "id": "G4RZTSq9cif4"
      }
    },
    {
      "cell_type": "code",
      "source": [
        "df = pd.DataFrame(np.random.random((5,5)), columns=['Sleep Duration','Quality of Sleep', 'Physical Activity Level','Stress Level','Heart Rate'])\n",
        "sns.heatmap(sleep_data_trimmed_norm.cov(), annot=True, annot_kws={\"size\": 7})"
      ],
      "metadata": {
        "colab": {
          "base_uri": "https://localhost:8080/",
          "height": 194
        },
        "id": "Wbo4NAWczPbp",
        "outputId": "04d76a36-b751-4aad-e324-67a6b0d79d52"
      },
      "execution_count": null,
      "outputs": [
        {
          "output_type": "error",
          "ename": "NameError",
          "evalue": "name 'pd' is not defined",
          "traceback": [
            "\u001b[0;31m---------------------------------------------------------------------------\u001b[0m",
            "\u001b[0;31mNameError\u001b[0m                                 Traceback (most recent call last)",
            "\u001b[0;32m<ipython-input-3-fe63aaac4b01>\u001b[0m in \u001b[0;36m<cell line: 1>\u001b[0;34m()\u001b[0m\n\u001b[0;32m----> 1\u001b[0;31m \u001b[0mdf\u001b[0m \u001b[0;34m=\u001b[0m \u001b[0mpd\u001b[0m\u001b[0;34m.\u001b[0m\u001b[0mDataFrame\u001b[0m\u001b[0;34m(\u001b[0m\u001b[0mnp\u001b[0m\u001b[0;34m.\u001b[0m\u001b[0mrandom\u001b[0m\u001b[0;34m.\u001b[0m\u001b[0mrandom\u001b[0m\u001b[0;34m(\u001b[0m\u001b[0;34m(\u001b[0m\u001b[0;36m5\u001b[0m\u001b[0;34m,\u001b[0m\u001b[0;36m5\u001b[0m\u001b[0;34m)\u001b[0m\u001b[0;34m)\u001b[0m\u001b[0;34m,\u001b[0m \u001b[0mcolumns\u001b[0m\u001b[0;34m=\u001b[0m\u001b[0;34m[\u001b[0m\u001b[0;34m'Sleep Duration'\u001b[0m\u001b[0;34m,\u001b[0m\u001b[0;34m'Quality of Sleep'\u001b[0m\u001b[0;34m,\u001b[0m \u001b[0;34m'Physical Activity Level'\u001b[0m\u001b[0;34m,\u001b[0m\u001b[0;34m'Stress Level'\u001b[0m\u001b[0;34m,\u001b[0m\u001b[0;34m'Heart Rate'\u001b[0m\u001b[0;34m]\u001b[0m\u001b[0;34m)\u001b[0m\u001b[0;34m\u001b[0m\u001b[0;34m\u001b[0m\u001b[0m\n\u001b[0m\u001b[1;32m      2\u001b[0m \u001b[0msns\u001b[0m\u001b[0;34m.\u001b[0m\u001b[0mheatmap\u001b[0m\u001b[0;34m(\u001b[0m\u001b[0msleep_data_trimmed_norm\u001b[0m\u001b[0;34m.\u001b[0m\u001b[0mcov\u001b[0m\u001b[0;34m(\u001b[0m\u001b[0;34m)\u001b[0m\u001b[0;34m,\u001b[0m \u001b[0mannot\u001b[0m\u001b[0;34m=\u001b[0m\u001b[0;32mTrue\u001b[0m\u001b[0;34m,\u001b[0m \u001b[0mannot_kws\u001b[0m\u001b[0;34m=\u001b[0m\u001b[0;34m{\u001b[0m\u001b[0;34m\"size\"\u001b[0m\u001b[0;34m:\u001b[0m \u001b[0;36m7\u001b[0m\u001b[0;34m}\u001b[0m\u001b[0;34m)\u001b[0m\u001b[0;34m\u001b[0m\u001b[0;34m\u001b[0m\u001b[0m\n",
            "\u001b[0;31mNameError\u001b[0m: name 'pd' is not defined"
          ]
        }
      ]
    },
    {
      "cell_type": "code",
      "source": [
        "# Blood pressure conversion 'Blood Pressure'\n",
        "\n",
        "print(\"Printing female data\")\n",
        "female_age = sleep_data['Gender'] == 'Female'\n",
        "print(female_age)\n",
        "\n",
        "female_mean = np.mean(female_age, axis=0)\n",
        "print(female_mean)\n",
        "\n",
        "\n",
        "# More Gender\n",
        "df = pd.DataFrame({\"gender\": gender_data, \"age\": age_data})\n",
        "ax = df.plot.box(column=\"age\", by=\"gender\", figsize=(10, 8))\n"
      ],
      "metadata": {
        "colab": {
          "base_uri": "https://localhost:8080/",
          "height": 945
        },
        "id": "_oECICE7LlIV",
        "outputId": "4d70b0c2-fc91-49e9-aa8d-c157b103e174"
      },
      "execution_count": null,
      "outputs": [
        {
          "output_type": "stream",
          "name": "stdout",
          "text": [
            "Printing female data\n",
            "0      False\n",
            "1      False\n",
            "2      False\n",
            "3      False\n",
            "4      False\n",
            "       ...  \n",
            "369     True\n",
            "370     True\n",
            "371     True\n",
            "372     True\n",
            "373     True\n",
            "Name: Gender, Length: 374, dtype: bool\n",
            "0.4946524064171123\n"
          ]
        },
        {
          "output_type": "display_data",
          "data": {
            "text/plain": [
              "<Figure size 1000x800 with 1 Axes>"
            ],
            "image/png": "[encoded data removed]"
          },
          "metadata": {}
        }
      ]
    }
  ]
}